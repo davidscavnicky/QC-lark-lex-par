{
 "cells": [
  {
   "cell_type": "code",
   "execution_count": 2,
   "metadata": {},
   "outputs": [
    {
     "name": "stdout",
     "output_type": "stream",
     "text": [
      "Resulting statevector:\n"
     ]
    },
    {
     "data": {
      "text/latex": [
       "$$\n",
       "|ψ⟩ = \n",
       "\\begin{bmatrix}\n",
       "\\frac{\\sqrt{2}}{2} & \\frac{1}{2} & \\frac{\\sqrt{6}}{6} & \\frac{\\sqrt{3}}{6}  \\\\\n",
       " \\end{bmatrix}\n",
       "$$"
      ],
      "text/plain": [
       "<IPython.core.display.Latex object>"
      ]
     },
     "metadata": {},
     "output_type": "display_data"
    },
    {
     "name": "stdout",
     "output_type": "stream",
     "text": [
      "Full unitary matrix:\n",
      "[[ 0.70710678 -0.5        -0.40824829  0.28867513]\n",
      " [ 0.5         0.70710678 -0.28867513 -0.40824829]\n",
      " [ 0.40824829 -0.28867513  0.70710678 -0.5       ]\n",
      " [ 0.28867513  0.40824829  0.5         0.70710678]]\n"
     ]
    },
    {
     "ename": "AttributeError",
     "evalue": "'Qubit' object has no attribute 'index'",
     "output_type": "error",
     "traceback": [
      "\u001b[1;31m---------------------------------------------------------------------------\u001b[0m",
      "\u001b[1;31mAttributeError\u001b[0m                            Traceback (most recent call last)",
      "Cell \u001b[1;32mIn[2], line 107\u001b[0m\n\u001b[0;32m    104\u001b[0m \u001b[38;5;28mprint\u001b[39m(unitary_matrix)\n\u001b[0;32m    106\u001b[0m \u001b[38;5;66;03m# Check individual gate matrices\u001b[39;00m\n\u001b[1;32m--> 107\u001b[0m gate_matrices_list \u001b[38;5;241m=\u001b[39m \u001b[43mgate_matrices\u001b[49m\u001b[43m(\u001b[49m\u001b[43mqc\u001b[49m\u001b[43m)\u001b[49m\n\u001b[0;32m    108\u001b[0m cumulative_matrices \u001b[38;5;241m=\u001b[39m step_matrices(gate_matrices_list)\n\u001b[0;32m    110\u001b[0m \u001b[38;5;66;03m# Verify if cumulative matrices match full unitary\u001b[39;00m\n",
      "Cell \u001b[1;32mIn[2], line 79\u001b[0m, in \u001b[0;36mgate_matrices\u001b[1;34m(qc)\u001b[0m\n\u001b[0;32m     77\u001b[0m matrices \u001b[38;5;241m=\u001b[39m []\n\u001b[0;32m     78\u001b[0m \u001b[38;5;28;01mfor\u001b[39;00m gate \u001b[38;5;129;01min\u001b[39;00m qc\u001b[38;5;241m.\u001b[39mdata:\n\u001b[1;32m---> 79\u001b[0m     matrices\u001b[38;5;241m.\u001b[39mappend(\u001b[43mgate_matrix\u001b[49m\u001b[43m(\u001b[49m\u001b[43mgate\u001b[49m\u001b[43m,\u001b[49m\u001b[43m \u001b[49m\u001b[43mqc\u001b[49m\u001b[38;5;241;43m.\u001b[39;49m\u001b[43mnum_qubits\u001b[49m\u001b[43m)\u001b[49m)\n\u001b[0;32m     80\u001b[0m \u001b[38;5;28;01mreturn\u001b[39;00m matrices\n",
      "Cell \u001b[1;32mIn[2], line 70\u001b[0m, in \u001b[0;36mgate_matrix\u001b[1;34m(gate, nqubits)\u001b[0m\n\u001b[0;32m     66\u001b[0m \u001b[38;5;250m\u001b[39m\u001b[38;5;124;03m\"\"\"\u001b[39;00m\n\u001b[0;32m     67\u001b[0m \u001b[38;5;124;03mReturns the matrix representation of a single gate in a quantum circuit.\u001b[39;00m\n\u001b[0;32m     68\u001b[0m \u001b[38;5;124;03m\"\"\"\u001b[39;00m\n\u001b[0;32m     69\u001b[0m qc \u001b[38;5;241m=\u001b[39m QuantumCircuit(nqubits)\n\u001b[1;32m---> 70\u001b[0m qc\u001b[38;5;241m.\u001b[39mappend(gate\u001b[38;5;241m.\u001b[39moperation, qargs\u001b[38;5;241m=\u001b[39m[\u001b[43mq\u001b[49m\u001b[38;5;241;43m.\u001b[39;49m\u001b[43mindex\u001b[49m \u001b[38;5;28;01mfor\u001b[39;00m q \u001b[38;5;129;01min\u001b[39;00m gate\u001b[38;5;241m.\u001b[39mqubits])\n\u001b[0;32m     71\u001b[0m \u001b[38;5;28;01mreturn\u001b[39;00m end_matrix(qc)\n",
      "\u001b[1;31mAttributeError\u001b[0m: 'Qubit' object has no attribute 'index'"
     ]
    }
   ],
   "source": [
    "import numpy as np\n",
    "from qiskit import QuantumCircuit, transpile, assemble\n",
    "from qiskit_aer import Aer\n",
    "from qiskit.visualization import array_to_latex\n",
    "\n",
    "def initialize_qubits(amplitudes):\n",
    "    \"\"\"\n",
    "    Creates a quantum circuit that initializes two qubits to a given normalized state.\n",
    "    :param amplitudes: List of four complex numbers representing the desired state amplitudes.\n",
    "    :return: QuantumCircuit object with initialized qubits.\n",
    "    \"\"\"\n",
    "    assert len(amplitudes) == 4, \"Input must have four amplitudes.\"\n",
    "    assert np.isclose(np.sum(np.abs(amplitudes)**2), 1), \"Input state must be normalized.\"\n",
    "    \n",
    "    a0, a1, a2, a3 = amplitudes\n",
    "    \n",
    "    # Compute angles based on given formulas\n",
    "    theta1 = 2 * np.arccos(np.sqrt(a0**2 + a2**2))\n",
    "    theta2 = 2 * np.arctan2(a3, a1)\n",
    "    theta3 = 2 * np.arctan2(a2, a0)\n",
    "    \n",
    "    # Create quantum circuit with 2 qubits\n",
    "    qc = QuantumCircuit(2)\n",
    "    \n",
    "    # Apply Ry rotation on qubit 0\n",
    "    qc.ry(theta1, 0)\n",
    "    \n",
    "    # Controlled Ry rotation on qubit 1 (controlled by qubit 0)\n",
    "    qc.cry(theta2, 0, 1)\n",
    "    \n",
    "    # Apply X gate to qubit 0 (negation)\n",
    "    qc.x(0)\n",
    "    \n",
    "    # Another controlled Ry rotation\n",
    "    qc.cry(theta3, 0, 1)\n",
    "    \n",
    "    # Apply X gate again to qubit 0 to revert\n",
    "    qc.x(0)\n",
    "    \n",
    "    return qc\n",
    "\n",
    "def check_initialization(qc):\n",
    "    \"\"\"\n",
    "    Uses the statevector simulator to check the resulting quantum state.\n",
    "    \"\"\"\n",
    "    simulator = Aer.get_backend('statevector_simulator')\n",
    "    transpiled_qc = transpile(qc, simulator)\n",
    "    result = simulator.run(transpiled_qc).result()\n",
    "    statevector = result.get_statevector()\n",
    "    \n",
    "    print(\"Resulting statevector:\")\n",
    "    display(array_to_latex(statevector, prefix=\"|ψ⟩ = \"))\n",
    "    return statevector\n",
    "\n",
    "def end_matrix(qc):\n",
    "    \"\"\"\n",
    "    Uses the unitary simulator to extract the full matrix representation of the circuit.\n",
    "    \"\"\"\n",
    "    simulator = Aer.get_backend('unitary_simulator')\n",
    "    transpiled_qc = transpile(qc, simulator)\n",
    "    result = simulator.run(transpiled_qc).result()\n",
    "    unitary = result.get_unitary()\n",
    "    return np.real(unitary)\n",
    "\n",
    "def gate_matrix(gate, nqubits):\n",
    "    \"\"\"\n",
    "    Returns the matrix representation of a single gate in a quantum circuit.\n",
    "    \"\"\"\n",
    "    qc = QuantumCircuit(nqubits)\n",
    "    qc.append(gate.operation, qargs=[q.index for q in gate.qubits])\n",
    "    return end_matrix(qc)\n",
    "\n",
    "def gate_matrices(qc):\n",
    "    \"\"\"\n",
    "    Returns the list of unitary matrices for each gate in the circuit.\n",
    "    \"\"\"\n",
    "    matrices = []\n",
    "    for gate in qc.data:\n",
    "        matrices.append(gate_matrix(gate, qc.num_qubits))\n",
    "    return matrices\n",
    "\n",
    "def step_matrices(qms):\n",
    "    \"\"\"\n",
    "    Computes the cumulative product of matrices to show stepwise transformations.\n",
    "    \"\"\"\n",
    "    cumulative_matrices = []\n",
    "    current_matrix = np.eye(qms[0].shape[0])\n",
    "    for matrix in qms:\n",
    "        current_matrix = np.dot(matrix, current_matrix)\n",
    "        cumulative_matrices.append(current_matrix)\n",
    "    return cumulative_matrices\n",
    "\n",
    "# Example test\n",
    "amplitudes = np.sqrt(np.array([1/2, 1/4, 1/6, 1/12]))\n",
    "qc = initialize_qubits(amplitudes)\n",
    "qc.draw('mpl')\n",
    "\n",
    "# Check initialization\n",
    "statevector = check_initialization(qc)\n",
    "\n",
    "# Check matrix semantics\n",
    "unitary_matrix = end_matrix(qc)\n",
    "print(\"Full unitary matrix:\")\n",
    "print(unitary_matrix)\n",
    "\n",
    "# Check individual gate matrices\n",
    "gate_matrices_list = gate_matrices(qc)\n",
    "cumulative_matrices = step_matrices(gate_matrices_list)\n",
    "\n",
    "# Verify if cumulative matrices match full unitary\n",
    "assert np.allclose(cumulative_matrices[-1], unitary_matrix), \"Mismatch in cumulative matrix product!\""
   ]
  }
 ],
 "metadata": {
  "kernelspec": {
   "display_name": ".venv",
   "language": "python",
   "name": "python3"
  },
  "language_info": {
   "codemirror_mode": {
    "name": "ipython",
    "version": 3
   },
   "file_extension": ".py",
   "mimetype": "text/x-python",
   "name": "python",
   "nbconvert_exporter": "python",
   "pygments_lexer": "ipython3",
   "version": "3.12.4"
  }
 },
 "nbformat": 4,
 "nbformat_minor": 2
}
