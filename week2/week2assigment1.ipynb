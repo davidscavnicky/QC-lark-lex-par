{
 "cells": [
  {
   "cell_type": "code",
   "execution_count": 5,
   "metadata": {},
   "outputs": [
    {
     "name": "stdout",
     "output_type": "stream",
     "text": [
      "Resulting statevector:\n"
     ]
    },
    {
     "data": {
      "text/latex": [
       "$$\n",
       "|ψ⟩ = \n",
       "\\begin{bmatrix}\n",
       "\\frac{\\sqrt{2}}{2} & \\frac{1}{2} & \\frac{\\sqrt{6}}{6} & \\frac{\\sqrt{3}}{6}  \\\\\n",
       " \\end{bmatrix}\n",
       "$$"
      ],
      "text/plain": [
       "<IPython.core.display.Latex object>"
      ]
     },
     "metadata": {},
     "output_type": "display_data"
    },
    {
     "name": "stdout",
     "output_type": "stream",
     "text": [
      "Statevector([0.70710678+0.j, 0.5       +0.j, 0.40824829+0.j,\n",
      "             0.28867513+0.j],\n",
      "            dims=(2, 2))\n"
     ]
    }
   ],
   "source": [
    "import numpy as np\n",
    "from qiskit import QuantumCircuit, transpile, assemble\n",
    "from qiskit_aer import Aer\n",
    "from qiskit.visualization import array_to_latex\n",
    "\n",
    "def initialize_qubits(amplitudes):\n",
    "    \"\"\"\n",
    "    Creates a quantum circuit that initializes two qubits to a given normalized state.\n",
    "    :param amplitudes: List of four complex numbers representing the desired state amplitudes.\n",
    "    :return: QuantumCircuit object with initialized qubits.\n",
    "    \"\"\"\n",
    "    assert len(amplitudes) == 4, \"Input must have four amplitudes.\"\n",
    "    assert np.isclose(np.sum(np.abs(amplitudes)**2), 1), \"Input state must be normalized.\"\n",
    "    \n",
    "    a0, a1, a2, a3 = amplitudes\n",
    "    \n",
    "    # Compute angles based on given formulas\n",
    "    theta1 = 2 * np.arccos(np.sqrt(a0**2 + a2**2))\n",
    "    theta2 = 2 * np.arctan2(a3, a1)\n",
    "    theta3 = 2 * np.arctan2(a2, a0)\n",
    "    \n",
    "    # Create quantum circuit with 2 qubits\n",
    "    qc = QuantumCircuit(2)\n",
    "    \n",
    "    # Apply Ry rotation on qubit 0\n",
    "    qc.ry(theta1, 0)\n",
    "    \n",
    "    # Controlled Ry rotation on qubit 1 (controlled by qubit 0)\n",
    "    qc.cry(theta2, 0, 1)\n",
    "    \n",
    "    # Apply X gate to qubit 0 (negation)\n",
    "    qc.x(0)\n",
    "    \n",
    "    # Another controlled Ry rotation\n",
    "    qc.cry(theta3, 0, 1)\n",
    "    \n",
    "    # Apply X gate again to qubit 0 to revert\n",
    "    qc.x(0)\n",
    "    \n",
    "    return qc\n",
    "\n",
    "def check_initialization(qc):\n",
    "    \"\"\"\n",
    "    Uses the statevector simulator to check the resulting quantum state.\n",
    "    \"\"\"\n",
    "    simulator = Aer.get_backend('statevector_simulator')\n",
    "    transpiled_qc = transpile(qc, simulator)\n",
    "    result = simulator.run(transpiled_qc).result()\n",
    "    statevector = result.get_statevector()\n",
    "    \n",
    "    print(\"Resulting statevector:\")\n",
    "    display(array_to_latex(statevector, prefix=\"|ψ⟩ = \"))\n",
    "    return statevector\n",
    "\n",
    "# Example test\n",
    "amplitudes = np.sqrt(np.array([1/2, 1/4, 1/6, 1/12]))\n",
    "qc = initialize_qubits(amplitudes)\n",
    "qc.draw('mpl')\n",
    "\n",
    "# Check initialization\n",
    "statevector = check_initialization(qc)\n",
    "\n",
    "print(statevector)\n"
   ]
  }
 ],
 "metadata": {
  "kernelspec": {
   "display_name": ".venv",
   "language": "python",
   "name": "python3"
  },
  "language_info": {
   "codemirror_mode": {
    "name": "ipython",
    "version": 3
   },
   "file_extension": ".py",
   "mimetype": "text/x-python",
   "name": "python",
   "nbconvert_exporter": "python",
   "pygments_lexer": "ipython3",
   "version": "3.12.4"
  }
 },
 "nbformat": 4,
 "nbformat_minor": 2
}
