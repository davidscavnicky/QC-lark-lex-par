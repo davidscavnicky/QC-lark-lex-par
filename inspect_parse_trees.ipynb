{
 "cells": [
  {
   "cell_type": "code",
   "execution_count": 4,
   "metadata": {},
   "outputs": [
    {
     "name": "stdout",
     "output_type": "stream",
     "text": [
      "Parse Tree for Example 1:\n",
      "exp\n",
      "  exp\n",
      "    3\n",
      "    +\n",
      "    5\n",
      "  *\n",
      "  2\n",
      "\n",
      "\n",
      "Parse Tree for Example 2:\n",
      "exp\n",
      "  0x1A\n",
      "  +\n",
      "  0b1010\n",
      "\n",
      "\n",
      "Parse Tree for Example 3:\n",
      "exp\n",
      "  3.14\n",
      "  *\n",
      "  2.71\n",
      "\n",
      "\n",
      "Parse Tree for Example 4:\n",
      "exp\n",
      "  sin\n",
      "  exp\n",
      "    pi\n",
      "    /\n",
      "    2\n",
      "\n"
     ]
    }
   ],
   "source": [
    "from lark import Lark\n",
    "from examples import example1, example2, example3, example4\n",
    "\n",
    "# Load the grammar from the expression-ambiguous.lark file\n",
    "parser = Lark.open(\"expression-ambiguous.lark\", start=\"exp\")\n",
    "\n",
    "# Parse the examples\n",
    "tree1 = parser.parse(example1)\n",
    "tree2 = parser.parse(example2)\n",
    "tree3 = parser.parse(example3)\n",
    "tree4 = parser.parse(example4)\n",
    "\n",
    "# Print the parse trees\n",
    "print(\"Parse Tree for Example 1:\")\n",
    "print(tree1.pretty())\n",
    "\n",
    "print(\"\\nParse Tree for Example 2:\")\n",
    "print(tree2.pretty())\n",
    "\n",
    "print(\"\\nParse Tree for Example 3:\")\n",
    "print(tree3.pretty())\n",
    "\n",
    "print(\"\\nParse Tree for Example 4:\")\n",
    "print(tree4.pretty())"
   ]
  }
 ],
 "metadata": {
  "kernelspec": {
   "display_name": ".venv",
   "language": "python",
   "name": "python3"
  },
  "language_info": {
   "codemirror_mode": {
    "name": "ipython",
    "version": 3
   },
   "file_extension": ".py",
   "mimetype": "text/x-python",
   "name": "python",
   "nbconvert_exporter": "python",
   "pygments_lexer": "ipython3",
   "version": "3.12.4"
  }
 },
 "nbformat": 4,
 "nbformat_minor": 2
}
