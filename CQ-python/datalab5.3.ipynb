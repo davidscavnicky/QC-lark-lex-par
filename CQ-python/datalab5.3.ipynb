{
 "cells": [
  {
   "cell_type": "code",
   "execution_count": null,
   "metadata": {},
   "outputs": [],
   "source": [
    "# First we load autoload, so we don't need to keep restarting the kernel to get\n",
    "# new definitions. This ensures that functions are reloaded from the file whenever\n",
    "# the file is changed.\n",
    "%load_ext autoreload\n",
    "%autoreload 2"
   ]
  },
  {
   "cell_type": "code",
   "execution_count": 12,
   "metadata": {},
   "outputs": [],
   "source": [
    "# All the stuff we need\n",
    "from lark import *\n",
    "from lark.tree import Tree\n",
    "from lark.lexer import Token\n",
    "from ast import literal_eval\n",
    "import numpy as np\n",
    "\n",
    "from helpers import *\n",
    "from show import *\n",
    "from showcq import *\n",
    "from type import *\n",
    "from PE import *"
   ]
  },
  {
   "cell_type": "code",
   "execution_count": 67,
   "metadata": {},
   "outputs": [
    {
     "name": "stdout",
     "output_type": "stream",
     "text": [
      "qft(qbit q[d]){\n",
      "  int i = 0 ;\n",
      "  while((i < (d - 1)))\n",
      "    {\n",
      "      int j = (i + 1) ;\n",
      "      int angle = 2 ;\n",
      "      H q[i] ;\n",
      "      H q[(i + 1)] ;\n",
      "      while((j < d))\n",
      "        {\n",
      "          Ry(((2 * pi) / angle)) q[i] if q[j]) ;\n",
      "          angle = (angle * 2) ;\n",
      "          j = (j + 1) ;\n",
      "        }\n",
      "\n",
      "      i = (i + 1) ;\n",
      "    }\n",
      "\n",
      "}\n",
      ")\n"
     ]
    }
   ],
   "source": [
    "#\n",
    "# The following reads in a full program and parses it into an AST `program_tree`.\n",
    "#\n",
    "cqparse = Lark.open(\"CQ.lark\",parser='lalr', start=\"program\")\n",
    "program = read_file(\"../CQ-programs/qft2.cq\")\n",
    "\n",
    "# Remove comment to test with `initialize2.cq`\n",
    "#program = read_file(\"../CQ-programs/initialize2.cq\") \n",
    "program_tree=cqparse.parse(program, start=\"program\")\n",
    "# If we've parsed the program properly, we can translate it back into CQ syntax\n",
    "print(showcq_program(program_tree))\n"
   ]
  },
  {
   "cell_type": "code",
   "execution_count": null,
   "metadata": {},
   "outputs": [],
   "source": []
  },
  {
   "cell_type": "code",
   "execution_count": 76,
   "metadata": {},
   "outputs": [],
   "source": [
    "# It's easiest to test your program bit by bit. \n",
    "# We use the start symbol to get parsers for individual syntactical elements.\n",
    "# The following are the parsers for expressions, declarations, and statements.\n",
    "exp_parser  = Lark.open(\"CQ.lark\", start=\"exp\")\n",
    "decl_parser = Lark.open(\"CQ.lark\", start=\"declaration\")\n",
    "stat_parser = Lark.open(\"CQ.lark\", start=\"statement\")\n",
    "\n",
    "# Some test examples in order of increasing difficulty\n",
    "# Make sure that the variables you want to be statically evaluated\n",
    "# are defined in your static_input dictionary below.\n",
    "# We will use the ASTs to test the type checker and the PE further below.\n",
    "# If you get an error already here, then there is an issue with your parser.\n",
    "# Change these up to experiment.\n",
    "t = exp_parser.parse(\"2*arccos(sqrt(a[0]*a[0] + a[2]*a[2]))\")\n",
    "d = decl_parser.parse(\"float th;\")\n",
    "#d = decl_parser.parse(\"float th = 2*arccos(sqrt(a[0]*a[0] + a[2]*a[2]));\")\n",
    "#d = decl_parser.parse(\"float x[4] = { 1/sqrt(2), 1/sqrt(4), 1/sqrt(6), 1/sqrt(12) };\")\n",
    "s = stat_parser.parse(\"a[0] = 2*arccos(sqrt(a[0]*a[0] + a[2]*a[2]));\")\n",
    "#s = stat_parser.parse(\"if (2+2==4) a[0] = 1; else a[1] = 1;\") \n",
    "#s = stat_parser.parse(\"if (2+2 < 5*a[1]) a[1] = 1; else a[0] = 1;\")\n",
    "#s = stat_parser.parse(\"{}\")\n",
    "#s = stat_parser.parse(\"while (i<2){ int j = a[i]; a[i] = a[3-i]; a[3-i] = j; i=i+1; }\")\n",
    "#s = stat_parser.parse(\"while (i<2){ int j = b[i]; b[i] = b[3-i]; b[3-i] = j; i=i+1; }\")\n",
    "#s = stat_parser.parse(\"{ a[i] = i+1; i = a[i]; }\")\n",
    "#s = stat_parser.parse(\"{ int i; int j=1; i = 0; while (j < 10) { a[i+1] = 0; i = i + 1; } }\")\n",
    "initialize_stat=\"\"\"{\n",
    "    float a[4] = {1/sqrt(2), 1/sqrt(4), 1/sqrt(6), 1/sqrt(12)};\n",
    "    qbit  q[2];\n",
    "    float th1 = 2*arccos(sqrt(a[0]*a[0] + a[2]*a[2]));\n",
    "    float th2 = 2*arctan2(a[3],a[1]); \n",
    "    float th3 = 2*arctan2(a[2],a[0]);\n",
    "\n",
    "    Ry(th1) q[0];\n",
    "    Ry(th2) q[1] if q[0];\n",
    "    not q[0];\n",
    "    Ry(th3) q[1] if q[0];\n",
    "    not q[0];\n",
    "}\n",
    "\"\"\"\n",
    "#s = stat_parser.parse(initialize_stat)"
   ]
  },
  {
   "cell_type": "code",
   "execution_count": 79,
   "metadata": {},
   "outputs": [
    {
     "name": "stdout",
     "output_type": "stream",
     "text": [
      "float\n",
      "('th', 'float')\n",
      "True\n"
     ]
    }
   ],
   "source": [
    "# Test of the type checker on the exp, declaration, and statement ASTs.\n",
    "type_env0=[{},{'a': \"float[4]\", 'b':'int[4]', \"i\": \"int\"}]\n",
    "\n",
    "# Test type checker on smaller syntactical elements:\n",
    "print(type_exp(t,type_env0))\n",
    "print(type_declaration(d,type_env0))\n",
    "#print(showcq_declaration(d))\n",
    "#print(showcq_statement(s))\n",
    "print(type_statement(s,type_env0))\n"
   ]
  },
  {
   "cell_type": "code",
   "execution_count": 80,
   "metadata": {},
   "outputs": [
    {
     "name": "stdout",
     "output_type": "stream",
     "text": [
      "Procedure qft is well-typed\n"
     ]
    },
    {
     "data": {
      "text/plain": [
       "True"
      ]
     },
     "execution_count": 80,
     "metadata": {},
     "output_type": "execute_result"
    }
   ],
   "source": [
    "# Type check the entire program\n",
    "type_program(program_tree)"
   ]
  },
  {
   "cell_type": "code",
   "execution_count": 89,
   "metadata": {},
   "outputs": [
    {
     "name": "stdout",
     "output_type": "stream",
     "text": [
      "`float th ;` fully evaluated, environment is:\n",
      " [{'a': array([0.70710678, 0.5       , 0.40824829, 0.28867513]), 'd': 4, Token(Token('TERMINAL', 'ID'), 'th'): 0}]\n"
     ]
    }
   ],
   "source": [
    "type_env0=[{},{'a': \"float[4]\"}]\n",
    "static_input = {'a': np.sqrt([1/2.,1/4.,1/6., 1/12.]),'d':4}\n",
    "value_env0=[static_input]\n",
    "#type_env0=[{},{'a': \"int[4]\", 'i': \"int\"}]\n",
    "#value_env0=[{'a': np.array([4,3,2,1]), 'i':0}]\n",
    "\n",
    "\n",
    "#Test PE for a declaration AST:\n",
    "(ped,static) = PE_declaration(d,value_env0)\n",
    "if not static:\n",
    "    print(showcq_declaration(ped))\n",
    "else: \n",
    "    print(f\"`{showcq_declaration(d)}` fully evaluated, environment is:\\n {value_env0}\")\n"
   ]
  },
  {
   "cell_type": "code",
   "execution_count": 90,
   "metadata": {},
   "outputs": [
    {
     "name": "stdout",
     "output_type": "stream",
     "text": [
      "a[0] = (2 * arccos(sqrt(((a[0] * a[0]) + (a[2] * a[2]))))) ; fully evaluated,\n",
      " environment is [{'a': array([1.23095942, 0.5       , 0.40824829, 0.28867513]), 'd': 4, Token(Token('TERMINAL', 'ID'), 'th'): 0}]\n"
     ]
    }
   ],
   "source": [
    "\n",
    "# Test PE for a statement AST:\n",
    "(pes,static) = PE_statement(s,value_env0)\n",
    "if not static:\n",
    "    #print(f\"residual statement:\\n\\t{pes}\\noriginal statement:\\n\\t{s}\")\n",
    "    #print(pes.pretty())\n",
    "    print(showcq_statement(pes))\n",
    "else: \n",
    "    print(f\"{showcq_statement(s)} fully evaluated,\\n environment is {value_env0}\")    "
   ]
  },
  {
   "cell_type": "code",
   "execution_count": 91,
   "metadata": {},
   "outputs": [],
   "source": [
    "# Test PE for a full program (Once you get this far!):\n",
    "pt_res = PE_program(pt,static_input) "
   ]
  },
  {
   "cell_type": "code",
   "execution_count": 92,
   "metadata": {},
   "outputs": [
    {
     "name": "stdout",
     "output_type": "stream",
     "text": [
      "qft(qbit q[4]){\n",
      "  {\n",
      "    H q[0] ;\n",
      "    H q[1] ;\n",
      "    {\n",
      "      Ry(3.141592653589793) q[0] if q[1]) ;\n",
      "      Ry(1.5707963267948966) q[0] if q[2]) ;\n",
      "      Ry(0.7853981633974483) q[0] if q[3]) ;\n",
      "    }\n",
      "\n",
      "  }\n",
      "\n",
      "  {\n",
      "    H q[1] ;\n",
      "    H q[2] ;\n",
      "    {\n",
      "      Ry(3.141592653589793) q[1] if q[2]) ;\n",
      "      Ry(1.5707963267948966) q[1] if q[3]) ;\n",
      "    }\n",
      "\n",
      "  }\n",
      "\n",
      "  {\n",
      "    H q[2] ;\n",
      "    H q[3] ;\n",
      "    Ry(3.141592653589793) q[2] if q[3]) ;\n",
      "  }\n",
      "\n",
      "}\n",
      ")\n"
     ]
    }
   ],
   "source": [
    "print(showcq_program(pt_res))"
   ]
  }
 ],
 "metadata": {
  "kernelspec": {
   "display_name": "Python 3",
   "language": "python",
   "name": "python3"
  },
  "language_info": {
   "codemirror_mode": {
    "name": "ipython",
    "version": 3
   },
   "file_extension": ".py",
   "mimetype": "text/x-python",
   "name": "python",
   "nbconvert_exporter": "python",
   "pygments_lexer": "ipython3",
   "version": "3.11.7"
  }
 },
 "nbformat": 4,
 "nbformat_minor": 2
}
